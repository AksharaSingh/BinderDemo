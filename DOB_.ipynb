{
 "cells": [
  {
   "cell_type": "code",
   "execution_count": 1,
   "metadata": {},
   "outputs": [],
   "source": [
    "import pandas as pd\n",
    "from sodapy import Socrata\n",
    "import seaborn as sns\n",
    "import matplotlib as plt\n",
    "import datetime"
   ]
  },
  {
   "cell_type": "markdown",
   "metadata": {},
   "source": [
    "Getting the DOB Permit Issuance data from Socrata API and saving it into dataframe"
   ]
  },
  {
   "cell_type": "code",
   "execution_count": 2,
   "metadata": {},
   "outputs": [],
   "source": [
    "client = Socrata(\"data.cityofnewyork.us\", \"1P6Gkpkyf7HJnxKNFgyky6tWN\")\n",
    "results_permit = client.get(\"ipu4-2q9a\", where=\"issuance_date > '2014-01-01' AND job_start_date > '2014-01-01' \",limit=2000000)\n"
   ]
  },
  {
   "cell_type": "markdown",
   "metadata": {},
   "source": [
    "Saving the data into df_permit"
   ]
  },
  {
   "cell_type": "code",
   "execution_count": 3,
   "metadata": {},
   "outputs": [],
   "source": [
    "df_permit = pd.DataFrame.from_records(results_permit)\n"
   ]
  },
  {
   "cell_type": "markdown",
   "metadata": {},
   "source": [
    "Describing the dataframe"
   ]
  },
  {
   "cell_type": "code",
   "execution_count": 4,
   "metadata": {},
   "outputs": [
    {
     "data": {
      "text/html": [
       "<div>\n",
       "<style scoped>\n",
       "    .dataframe tbody tr th:only-of-type {\n",
       "        vertical-align: middle;\n",
       "    }\n",
       "\n",
       "    .dataframe tbody tr th {\n",
       "        vertical-align: top;\n",
       "    }\n",
       "\n",
       "    .dataframe thead th {\n",
       "        text-align: right;\n",
       "    }\n",
       "</style>\n",
       "<table border=\"1\" class=\"dataframe\">\n",
       "  <thead>\n",
       "    <tr style=\"text-align: right;\">\n",
       "      <th></th>\n",
       "      <th>act_as_superintendent</th>\n",
       "      <th>bin__</th>\n",
       "      <th>bldg_type</th>\n",
       "      <th>block</th>\n",
       "      <th>borough</th>\n",
       "      <th>city</th>\n",
       "      <th>community_board</th>\n",
       "      <th>dobrundate</th>\n",
       "      <th>expiration_date</th>\n",
       "      <th>filing_date</th>\n",
       "      <th>...</th>\n",
       "      <th>site_safety_mgr_s_first_name</th>\n",
       "      <th>site_safety_mgr_s_last_name</th>\n",
       "      <th>special_district_1</th>\n",
       "      <th>special_district_2</th>\n",
       "      <th>state</th>\n",
       "      <th>street_name</th>\n",
       "      <th>superintendent_business_name</th>\n",
       "      <th>superintendent_first___last_name</th>\n",
       "      <th>work_type</th>\n",
       "      <th>zip_code</th>\n",
       "    </tr>\n",
       "  </thead>\n",
       "  <tbody>\n",
       "    <tr>\n",
       "      <th>count</th>\n",
       "      <td>6</td>\n",
       "      <td>862868</td>\n",
       "      <td>862868</td>\n",
       "      <td>862868</td>\n",
       "      <td>862868</td>\n",
       "      <td>862863</td>\n",
       "      <td>861995</td>\n",
       "      <td>862868</td>\n",
       "      <td>862868</td>\n",
       "      <td>862868</td>\n",
       "      <td>...</td>\n",
       "      <td>12439</td>\n",
       "      <td>12439</td>\n",
       "      <td>161312</td>\n",
       "      <td>33641</td>\n",
       "      <td>862865</td>\n",
       "      <td>862868</td>\n",
       "      <td>46478</td>\n",
       "      <td>49476</td>\n",
       "      <td>744323</td>\n",
       "      <td>862061</td>\n",
       "    </tr>\n",
       "    <tr>\n",
       "      <th>unique</th>\n",
       "      <td>1</td>\n",
       "      <td>141505</td>\n",
       "      <td>2</td>\n",
       "      <td>13042</td>\n",
       "      <td>5</td>\n",
       "      <td>2939</td>\n",
       "      <td>78</td>\n",
       "      <td>451</td>\n",
       "      <td>2278</td>\n",
       "      <td>2061</td>\n",
       "      <td>...</td>\n",
       "      <td>407</td>\n",
       "      <td>837</td>\n",
       "      <td>78</td>\n",
       "      <td>8</td>\n",
       "      <td>49</td>\n",
       "      <td>19643</td>\n",
       "      <td>2860</td>\n",
       "      <td>3141</td>\n",
       "      <td>12</td>\n",
       "      <td>225</td>\n",
       "    </tr>\n",
       "    <tr>\n",
       "      <th>top</th>\n",
       "      <td>Y</td>\n",
       "      <td>1015862</td>\n",
       "      <td>2</td>\n",
       "      <td>16350</td>\n",
       "      <td>MANHATTAN</td>\n",
       "      <td>NEW YORK</td>\n",
       "      <td>105</td>\n",
       "      <td>2017-11-03T00:00:00.000</td>\n",
       "      <td>2017-04-01T00:00:00.000</td>\n",
       "      <td>2017-03-29T00:00:00.000</td>\n",
       "      <td>...</td>\n",
       "      <td>ADMINISTRATIVE</td>\n",
       "      <td>WAIVER</td>\n",
       "      <td>MID</td>\n",
       "      <td>POPS</td>\n",
       "      <td>NY</td>\n",
       "      <td>BROADWAY</td>\n",
       "      <td>MRM DEVELOPMENT CORP</td>\n",
       "      <td>ROBERT SAN MIGUEL</td>\n",
       "      <td>OT</td>\n",
       "      <td>10022</td>\n",
       "    </tr>\n",
       "    <tr>\n",
       "      <th>freq</th>\n",
       "      <td>6</td>\n",
       "      <td>967</td>\n",
       "      <td>662991</td>\n",
       "      <td>3942</td>\n",
       "      <td>361346</td>\n",
       "      <td>332230</td>\n",
       "      <td>85212</td>\n",
       "      <td>614741</td>\n",
       "      <td>4079</td>\n",
       "      <td>1042</td>\n",
       "      <td>...</td>\n",
       "      <td>872</td>\n",
       "      <td>872</td>\n",
       "      <td>40968</td>\n",
       "      <td>14275</td>\n",
       "      <td>833987</td>\n",
       "      <td>22573</td>\n",
       "      <td>415</td>\n",
       "      <td>490</td>\n",
       "      <td>291237</td>\n",
       "      <td>20335</td>\n",
       "    </tr>\n",
       "  </tbody>\n",
       "</table>\n",
       "<p>4 rows × 60 columns</p>\n",
       "</div>"
      ],
      "text/plain": [
       "       act_as_superintendent    bin__ bldg_type   block    borough      city  \\\n",
       "count                      6   862868    862868  862868     862868    862863   \n",
       "unique                     1   141505         2   13042          5      2939   \n",
       "top                        Y  1015862         2   16350  MANHATTAN  NEW YORK   \n",
       "freq                       6      967    662991    3942     361346    332230   \n",
       "\n",
       "       community_board               dobrundate          expiration_date  \\\n",
       "count           861995                   862868                   862868   \n",
       "unique              78                      451                     2278   \n",
       "top                105  2017-11-03T00:00:00.000  2017-04-01T00:00:00.000   \n",
       "freq             85212                   614741                     4079   \n",
       "\n",
       "                    filing_date   ...    site_safety_mgr_s_first_name  \\\n",
       "count                    862868   ...                           12439   \n",
       "unique                     2061   ...                             407   \n",
       "top     2017-03-29T00:00:00.000   ...                  ADMINISTRATIVE   \n",
       "freq                       1042   ...                             872   \n",
       "\n",
       "       site_safety_mgr_s_last_name special_district_1 special_district_2  \\\n",
       "count                        12439             161312              33641   \n",
       "unique                         837                 78                  8   \n",
       "top                         WAIVER                MID               POPS   \n",
       "freq                           872              40968              14275   \n",
       "\n",
       "         state street_name superintendent_business_name  \\\n",
       "count   862865      862868                        46478   \n",
       "unique      49       19643                         2860   \n",
       "top         NY    BROADWAY         MRM DEVELOPMENT CORP   \n",
       "freq    833987       22573                          415   \n",
       "\n",
       "       superintendent_first___last_name work_type zip_code  \n",
       "count                             49476    744323   862061  \n",
       "unique                             3141        12      225  \n",
       "top                   ROBERT SAN MIGUEL        OT    10022  \n",
       "freq                                490    291237    20335  \n",
       "\n",
       "[4 rows x 60 columns]"
      ]
     },
     "execution_count": 4,
     "metadata": {},
     "output_type": "execute_result"
    }
   ],
   "source": [
    "df_permit.describe()"
   ]
  },
  {
   "cell_type": "markdown",
   "metadata": {},
   "source": [
    "list of columns"
   ]
  },
  {
   "cell_type": "code",
   "execution_count": 5,
   "metadata": {},
   "outputs": [
    {
     "data": {
      "text/plain": [
       "Index(['act_as_superintendent', 'bin__', 'bldg_type', 'block', 'borough',\n",
       "       'city', 'community_board', 'dobrundate', 'expiration_date',\n",
       "       'filing_date', 'filing_status', 'gis_census_tract',\n",
       "       'gis_council_district', 'gis_latitude', 'gis_longitude', 'gis_nta_name',\n",
       "       'hic_license', 'house__', 'issuance_date', 'job__', 'job_doc___',\n",
       "       'job_start_date', 'job_type', 'lot', 'non_profit', 'oil_gas',\n",
       "       'owner_s_business_name', 'owner_s_business_type', 'owner_s_first_name',\n",
       "       'owner_s_house__', 'owner_s_house_street_name', 'owner_s_last_name',\n",
       "       'owner_s_phone__', 'owner_s_zip_code', 'permit_sequence__',\n",
       "       'permit_si_no', 'permit_status', 'permit_subtype', 'permit_type',\n",
       "       'permittee_s_business_name', 'permittee_s_first_name',\n",
       "       'permittee_s_last_name', 'permittee_s_license__',\n",
       "       'permittee_s_license_type', 'permittee_s_other_title',\n",
       "       'permittee_s_phone__', 'residential', 'self_cert', 'site_fill',\n",
       "       'site_safety_mgr_business_name', 'site_safety_mgr_s_first_name',\n",
       "       'site_safety_mgr_s_last_name', 'special_district_1',\n",
       "       'special_district_2', 'state', 'street_name',\n",
       "       'superintendent_business_name', 'superintendent_first___last_name',\n",
       "       'work_type', 'zip_code'],\n",
       "      dtype='object')"
      ]
     },
     "execution_count": 5,
     "metadata": {},
     "output_type": "execute_result"
    }
   ],
   "source": [
    "df_permit.columns"
   ]
  },
  {
   "cell_type": "markdown",
   "metadata": {},
   "source": [
    "Rows of dataframe"
   ]
  },
  {
   "cell_type": "code",
   "execution_count": 6,
   "metadata": {},
   "outputs": [
    {
     "data": {
      "text/html": [
       "<div>\n",
       "<style scoped>\n",
       "    .dataframe tbody tr th:only-of-type {\n",
       "        vertical-align: middle;\n",
       "    }\n",
       "\n",
       "    .dataframe tbody tr th {\n",
       "        vertical-align: top;\n",
       "    }\n",
       "\n",
       "    .dataframe thead th {\n",
       "        text-align: right;\n",
       "    }\n",
       "</style>\n",
       "<table border=\"1\" class=\"dataframe\">\n",
       "  <thead>\n",
       "    <tr style=\"text-align: right;\">\n",
       "      <th></th>\n",
       "      <th>act_as_superintendent</th>\n",
       "      <th>bin__</th>\n",
       "      <th>bldg_type</th>\n",
       "      <th>block</th>\n",
       "      <th>borough</th>\n",
       "      <th>city</th>\n",
       "      <th>community_board</th>\n",
       "      <th>dobrundate</th>\n",
       "      <th>expiration_date</th>\n",
       "      <th>filing_date</th>\n",
       "      <th>...</th>\n",
       "      <th>site_safety_mgr_s_first_name</th>\n",
       "      <th>site_safety_mgr_s_last_name</th>\n",
       "      <th>special_district_1</th>\n",
       "      <th>special_district_2</th>\n",
       "      <th>state</th>\n",
       "      <th>street_name</th>\n",
       "      <th>superintendent_business_name</th>\n",
       "      <th>superintendent_first___last_name</th>\n",
       "      <th>work_type</th>\n",
       "      <th>zip_code</th>\n",
       "    </tr>\n",
       "  </thead>\n",
       "  <tbody>\n",
       "    <tr>\n",
       "      <th>0</th>\n",
       "      <td>NaN</td>\n",
       "      <td>4071003</td>\n",
       "      <td>1</td>\n",
       "      <td>03041</td>\n",
       "      <td>QUEENS</td>\n",
       "      <td>QNS</td>\n",
       "      <td>405</td>\n",
       "      <td>2017-11-03T00:00:00.000</td>\n",
       "      <td>2016-08-31T00:00:00.000</td>\n",
       "      <td>2015-09-01T00:00:00.000</td>\n",
       "      <td>...</td>\n",
       "      <td>NaN</td>\n",
       "      <td>NaN</td>\n",
       "      <td>NaN</td>\n",
       "      <td>NaN</td>\n",
       "      <td>NY</td>\n",
       "      <td>79 PL</td>\n",
       "      <td>NaN</td>\n",
       "      <td>NaN</td>\n",
       "      <td>EQ</td>\n",
       "      <td>11379</td>\n",
       "    </tr>\n",
       "    <tr>\n",
       "      <th>1</th>\n",
       "      <td>NaN</td>\n",
       "      <td>1813346</td>\n",
       "      <td>2</td>\n",
       "      <td>09999</td>\n",
       "      <td>MANHATTAN</td>\n",
       "      <td>NEWYORK</td>\n",
       "      <td>118</td>\n",
       "      <td>2017-11-03T00:00:00.000</td>\n",
       "      <td>2015-03-05T00:00:00.000</td>\n",
       "      <td>2014-10-29T00:00:00.000</td>\n",
       "      <td>...</td>\n",
       "      <td>NaN</td>\n",
       "      <td>NaN</td>\n",
       "      <td>NaN</td>\n",
       "      <td>NaN</td>\n",
       "      <td>NY</td>\n",
       "      <td>MANHATTAN PLAZA</td>\n",
       "      <td>NaN</td>\n",
       "      <td>NaN</td>\n",
       "      <td>OT</td>\n",
       "      <td>10007</td>\n",
       "    </tr>\n",
       "  </tbody>\n",
       "</table>\n",
       "<p>2 rows × 60 columns</p>\n",
       "</div>"
      ],
      "text/plain": [
       "  act_as_superintendent    bin__ bldg_type  block    borough     city  \\\n",
       "0                   NaN  4071003         1  03041     QUEENS      QNS   \n",
       "1                   NaN  1813346         2  09999  MANHATTAN  NEWYORK   \n",
       "\n",
       "  community_board               dobrundate          expiration_date  \\\n",
       "0             405  2017-11-03T00:00:00.000  2016-08-31T00:00:00.000   \n",
       "1             118  2017-11-03T00:00:00.000  2015-03-05T00:00:00.000   \n",
       "\n",
       "               filing_date   ...    site_safety_mgr_s_first_name  \\\n",
       "0  2015-09-01T00:00:00.000   ...                             NaN   \n",
       "1  2014-10-29T00:00:00.000   ...                             NaN   \n",
       "\n",
       "  site_safety_mgr_s_last_name special_district_1 special_district_2 state  \\\n",
       "0                         NaN                NaN                NaN    NY   \n",
       "1                         NaN                NaN                NaN    NY   \n",
       "\n",
       "       street_name superintendent_business_name  \\\n",
       "0            79 PL                          NaN   \n",
       "1  MANHATTAN PLAZA                          NaN   \n",
       "\n",
       "  superintendent_first___last_name work_type zip_code  \n",
       "0                              NaN        EQ    11379  \n",
       "1                              NaN        OT    10007  \n",
       "\n",
       "[2 rows x 60 columns]"
      ]
     },
     "execution_count": 6,
     "metadata": {},
     "output_type": "execute_result"
    }
   ],
   "source": [
    "df_permit.head(2)"
   ]
  },
  {
   "cell_type": "markdown",
   "metadata": {},
   "source": [
    "Getting the DOB violation data from Socrata API and saving it into df_violation dataframe\n"
   ]
  },
  {
   "cell_type": "code",
   "execution_count": 7,
   "metadata": {},
   "outputs": [
    {
     "data": {
      "text/plain": [
       "862868"
      ]
     },
     "execution_count": 7,
     "metadata": {},
     "output_type": "execute_result"
    }
   ],
   "source": [
    "len(df_permit.index)"
   ]
  },
  {
   "cell_type": "code",
   "execution_count": 73,
   "metadata": {},
   "outputs": [],
   "source": [
    "df_permit.to_csv(\"df_permit.csv\")"
   ]
  },
  {
   "cell_type": "code",
   "execution_count": 77,
   "metadata": {},
   "outputs": [],
   "source": [
    "client = Socrata(\"data.cityofnewyork.us\", \"1P6Gkpkyf7HJnxKNFgyky6tWN\")\n",
    "results_violation = client.get(\"dvnq-fhaa\",where=\"issue_date > '2014-01-01' AND issue_date < '2019-03-31' \",limit=1000000)\n",
    "df_violation = pd.DataFrame.from_records(results_violation)"
   ]
  },
  {
   "cell_type": "markdown",
   "metadata": {},
   "source": [
    "Describing the dataframe"
   ]
  },
  {
   "cell_type": "code",
   "execution_count": 81,
   "metadata": {},
   "outputs": [
    {
     "data": {
      "text/plain": [
       "457963"
      ]
     },
     "execution_count": 81,
     "metadata": {},
     "output_type": "execute_result"
    }
   ],
   "source": [
    "len(df_violation.index)"
   ]
  },
  {
   "cell_type": "code",
   "execution_count": 82,
   "metadata": {},
   "outputs": [
    {
     "data": {
      "text/html": [
       "<div>\n",
       "<style scoped>\n",
       "    .dataframe tbody tr th:only-of-type {\n",
       "        vertical-align: middle;\n",
       "    }\n",
       "\n",
       "    .dataframe tbody tr th {\n",
       "        vertical-align: top;\n",
       "    }\n",
       "\n",
       "    .dataframe thead th {\n",
       "        text-align: right;\n",
       "    }\n",
       "</style>\n",
       "<table border=\"1\" class=\"dataframe\">\n",
       "  <thead>\n",
       "    <tr style=\"text-align: right;\">\n",
       "      <th></th>\n",
       "      <th>bin</th>\n",
       "      <th>block</th>\n",
       "      <th>boro</th>\n",
       "      <th>description</th>\n",
       "      <th>device_number</th>\n",
       "      <th>disposition_comments</th>\n",
       "      <th>disposition_date</th>\n",
       "      <th>ecb_number</th>\n",
       "      <th>house_number</th>\n",
       "      <th>isn_dob_bis_viol</th>\n",
       "      <th>issue_date</th>\n",
       "      <th>lot</th>\n",
       "      <th>number</th>\n",
       "      <th>street</th>\n",
       "      <th>violation_category</th>\n",
       "      <th>violation_number</th>\n",
       "      <th>violation_type</th>\n",
       "      <th>violation_type_code</th>\n",
       "    </tr>\n",
       "  </thead>\n",
       "  <tbody>\n",
       "    <tr>\n",
       "      <th>count</th>\n",
       "      <td>457960</td>\n",
       "      <td>457739</td>\n",
       "      <td>457961</td>\n",
       "      <td>300075</td>\n",
       "      <td>338079</td>\n",
       "      <td>259866</td>\n",
       "      <td>260053</td>\n",
       "      <td>73647</td>\n",
       "      <td>457959</td>\n",
       "      <td>457963</td>\n",
       "      <td>457963</td>\n",
       "      <td>457742</td>\n",
       "      <td>457963</td>\n",
       "      <td>457962</td>\n",
       "      <td>457708</td>\n",
       "      <td>457963</td>\n",
       "      <td>457963</td>\n",
       "      <td>457963</td>\n",
       "    </tr>\n",
       "    <tr>\n",
       "      <th>unique</th>\n",
       "      <td>101186</td>\n",
       "      <td>11403</td>\n",
       "      <td>10</td>\n",
       "      <td>14107</td>\n",
       "      <td>159636</td>\n",
       "      <td>105556</td>\n",
       "      <td>1511</td>\n",
       "      <td>73128</td>\n",
       "      <td>23579</td>\n",
       "      <td>457963</td>\n",
       "      <td>1886</td>\n",
       "      <td>1694</td>\n",
       "      <td>456648</td>\n",
       "      <td>10208</td>\n",
       "      <td>11</td>\n",
       "      <td>185002</td>\n",
       "      <td>32</td>\n",
       "      <td>32</td>\n",
       "    </tr>\n",
       "    <tr>\n",
       "      <th>top</th>\n",
       "      <td>1015219</td>\n",
       "      <td>00016</td>\n",
       "      <td>1</td>\n",
       "      <td>FAILURE TO CERTIFY CORRECTION ON IMMEDIATELY H...</td>\n",
       "      <td>00102562</td>\n",
       "      <td>PVT: SATISFIED BY SUBMISSION OF AOC FOR CAT 1 ...</td>\n",
       "      <td>20170713</td>\n",
       "      <td>35161623L</td>\n",
       "      <td>1</td>\n",
       "      <td>2133253</td>\n",
       "      <td>20140515</td>\n",
       "      <td>00001</td>\n",
       "      <td>V040618LBLVIO19550</td>\n",
       "      <td>BROADWAY</td>\n",
       "      <td>V-DOB VIOLATION - ACTIVE</td>\n",
       "      <td>00001</td>\n",
       "      <td>E-ELEVATOR</td>\n",
       "      <td>E</td>\n",
       "    </tr>\n",
       "    <tr>\n",
       "      <th>freq</th>\n",
       "      <td>340</td>\n",
       "      <td>1063</td>\n",
       "      <td>176471</td>\n",
       "      <td>69645</td>\n",
       "      <td>141</td>\n",
       "      <td>25887</td>\n",
       "      <td>4446</td>\n",
       "      <td>3</td>\n",
       "      <td>2941</td>\n",
       "      <td>1</td>\n",
       "      <td>22569</td>\n",
       "      <td>57377</td>\n",
       "      <td>4</td>\n",
       "      <td>11469</td>\n",
       "      <td>196126</td>\n",
       "      <td>217</td>\n",
       "      <td>142003</td>\n",
       "      <td>142003</td>\n",
       "    </tr>\n",
       "  </tbody>\n",
       "</table>\n",
       "</div>"
      ],
      "text/plain": [
       "            bin   block    boro  \\\n",
       "count    457960  457739  457961   \n",
       "unique   101186   11403      10   \n",
       "top     1015219   00016       1   \n",
       "freq        340    1063  176471   \n",
       "\n",
       "                                              description device_number  \\\n",
       "count                                              300075        338079   \n",
       "unique                                              14107        159636   \n",
       "top     FAILURE TO CERTIFY CORRECTION ON IMMEDIATELY H...      00102562   \n",
       "freq                                                69645           141   \n",
       "\n",
       "                                     disposition_comments disposition_date  \\\n",
       "count                                              259866           260053   \n",
       "unique                                             105556             1511   \n",
       "top     PVT: SATISFIED BY SUBMISSION OF AOC FOR CAT 1 ...         20170713   \n",
       "freq                                                25887             4446   \n",
       "\n",
       "       ecb_number house_number isn_dob_bis_viol issue_date     lot  \\\n",
       "count       73647       457959           457963     457963  457742   \n",
       "unique      73128        23579           457963       1886    1694   \n",
       "top     35161623L            1          2133253   20140515   00001   \n",
       "freq            3         2941                1      22569   57377   \n",
       "\n",
       "                    number    street        violation_category  \\\n",
       "count               457963    457962                    457708   \n",
       "unique              456648     10208                        11   \n",
       "top     V040618LBLVIO19550  BROADWAY  V-DOB VIOLATION - ACTIVE   \n",
       "freq                     4     11469                    196126   \n",
       "\n",
       "       violation_number violation_type violation_type_code  \n",
       "count            457963         457963              457963  \n",
       "unique           185002             32                  32  \n",
       "top               00001     E-ELEVATOR                   E  \n",
       "freq                217         142003              142003  "
      ]
     },
     "execution_count": 82,
     "metadata": {},
     "output_type": "execute_result"
    }
   ],
   "source": [
    "df_violation.describe()"
   ]
  },
  {
   "cell_type": "markdown",
   "metadata": {},
   "source": [
    "list of columns"
   ]
  },
  {
   "cell_type": "code",
   "execution_count": 83,
   "metadata": {},
   "outputs": [
    {
     "data": {
      "text/plain": [
       "Index(['bin', 'block', 'boro', 'description', 'device_number',\n",
       "       'disposition_comments', 'disposition_date', 'ecb_number',\n",
       "       'house_number', 'isn_dob_bis_viol', 'issue_date', 'lot', 'number',\n",
       "       'street', 'violation_category', 'violation_number', 'violation_type',\n",
       "       'violation_type_code'],\n",
       "      dtype='object')"
      ]
     },
     "execution_count": 83,
     "metadata": {},
     "output_type": "execute_result"
    }
   ],
   "source": [
    "df_violation.columns"
   ]
  },
  {
   "cell_type": "markdown",
   "metadata": {},
   "source": [
    "Renaming bin_ to bin, as both the dataframes need to be joined on the common column bin"
   ]
  },
  {
   "cell_type": "code",
   "execution_count": 47,
   "metadata": {},
   "outputs": [
    {
     "data": {
      "text/plain": [
       "str"
      ]
     },
     "execution_count": 47,
     "metadata": {},
     "output_type": "execute_result"
    }
   ],
   "source": [
    "type(df_violation['issue_date'].iloc[0])\n"
   ]
  },
  {
   "cell_type": "code",
   "execution_count": 12,
   "metadata": {},
   "outputs": [],
   "source": [
    "df_permit = df_permit.rename(columns={'bin__': 'bin'})"
   ]
  },
  {
   "cell_type": "code",
   "execution_count": 13,
   "metadata": {},
   "outputs": [
    {
     "name": "stdout",
     "output_type": "stream",
     "text": [
      "act_as_superintendent               99.999305\n",
      "bin                                  0.000000\n",
      "bldg_type                            0.000000\n",
      "block                                0.000000\n",
      "borough                              0.000000\n",
      "city                                 0.000579\n",
      "community_board                      0.101174\n",
      "dobrundate                           0.000000\n",
      "expiration_date                      0.000000\n",
      "filing_date                          0.000000\n",
      "filing_status                        0.000000\n",
      "gis_census_tract                     0.493702\n",
      "gis_council_district                 0.493702\n",
      "gis_latitude                         0.493702\n",
      "gis_longitude                        0.493702\n",
      "gis_nta_name                         0.493702\n",
      "hic_license                         99.689176\n",
      "house__                              0.000000\n",
      "issuance_date                        0.000000\n",
      "job__                                0.000000\n",
      "job_doc___                           0.000000\n",
      "job_start_date                       0.000000\n",
      "job_type                             0.000000\n",
      "lot                                  0.000000\n",
      "non_profit                           0.089121\n",
      "oil_gas                             99.385422\n",
      "owner_s_business_name                0.020513\n",
      "owner_s_business_type                0.097002\n",
      "owner_s_first_name                   0.000348\n",
      "owner_s_house__                      0.001043\n",
      "owner_s_house_street_name            0.000464\n",
      "owner_s_last_name                    0.000348\n",
      "owner_s_phone__                      0.004056\n",
      "owner_s_zip_code                     0.000579\n",
      "permit_sequence__                    0.000000\n",
      "permit_si_no                         0.000000\n",
      "permit_status                        0.172216\n",
      "permit_subtype                      34.578290\n",
      "permit_type                          0.000000\n",
      "permittee_s_business_name            0.000000\n",
      "permittee_s_first_name               0.000000\n",
      "permittee_s_last_name                0.000000\n",
      "permittee_s_license__                0.354284\n",
      "permittee_s_license_type             0.000000\n",
      "permittee_s_other_title             99.642935\n",
      "permittee_s_phone__                  0.000000\n",
      "residential                         43.726966\n",
      "self_cert                            0.171173\n",
      "site_fill                           23.329988\n",
      "site_safety_mgr_business_name       99.112958\n",
      "site_safety_mgr_s_first_name        98.558412\n",
      "site_safety_mgr_s_last_name         98.558412\n",
      "special_district_1                  81.305136\n",
      "special_district_2                  96.101258\n",
      "state                                0.000348\n",
      "street_name                          0.000000\n",
      "superintendent_business_name        94.613545\n",
      "superintendent_first___last_name    94.266099\n",
      "work_type                           13.738486\n",
      "zip_code                             0.093525\n",
      "dtype: float64\n"
     ]
    }
   ],
   "source": [
    "print(df_permit.isnull().sum()/len(df_permit)*100)"
   ]
  },
  {
   "cell_type": "code",
   "execution_count": 14,
   "metadata": {},
   "outputs": [],
   "source": [
    "df_prefcolumn=df_permit.drop(columns=['hic_license','oil_gas','special_district_1','special_district_2','permit_subtype','site_safety_mgr_business_name','site_safety_mgr_s_first_name','site_safety_mgr_s_last_name','superintendent_business_name','superintendent_first___last_name'])\n"
   ]
  },
  {
   "cell_type": "code",
   "execution_count": 15,
   "metadata": {},
   "outputs": [],
   "source": [
    "df_prefcolumn=df_prefcolumn.drop(columns=['owner_s_business_name','owner_s_business_type','owner_s_first_name','owner_s_house__','owner_s_house_street_name','owner_s_last_name','owner_s_phone__','owner_s_zip_code'])"
   ]
  },
  {
   "cell_type": "code",
   "execution_count": 84,
   "metadata": {},
   "outputs": [],
   "source": [
    "# df_mergerd=pd.merge(left=df_prefcolumn,right=df_violation,how='inner',on='bin')\n",
    "df_mergerd=df_prefcolumn.merge(df_violation,how='inner',on='bin')\n",
    "# df_mergerd=df_prefcolumn.join(df_violation, on='bin', how='inner')"
   ]
  },
  {
   "cell_type": "code",
   "execution_count": 85,
   "metadata": {},
   "outputs": [
    {
     "data": {
      "text/plain": [
       "8854479"
      ]
     },
     "execution_count": 85,
     "metadata": {},
     "output_type": "execute_result"
    }
   ],
   "source": [
    "len(df_mergerd.index)"
   ]
  },
  {
   "cell_type": "code",
   "execution_count": 86,
   "metadata": {},
   "outputs": [],
   "source": [
    "def remove_extrachar(x):\n",
    "    x = str(x)\n",
    "    x = x.strip(\"T00:00:00.000\")\n",
    "    return x\n",
    "\n"
   ]
  },
  {
   "cell_type": "code",
   "execution_count": 87,
   "metadata": {},
   "outputs": [],
   "source": [
    "df_mergerd['expiration_date'] = df_mergerd['expiration_date'].apply(remove_extrachar)\n",
    "df_mergerd['issuance_date'] = df_mergerd['expiration_date'].apply(remove_extrachar)\n",
    "df_mergerd['filing_date'] = df_mergerd['filing_date'].apply(remove_extrachar)\n",
    "df_mergerd['job_start_date'] = df_mergerd['job_start_date'].apply(remove_extrachar)\n",
    "# df_mergerd['issue_dat'] = df_mergerd['issue_dat'].apply(remove_extrachar)"
   ]
  },
  {
   "cell_type": "code",
   "execution_count": 88,
   "metadata": {},
   "outputs": [
    {
     "data": {
      "text/plain": [
       "'2016-03-3'"
      ]
     },
     "execution_count": 88,
     "metadata": {},
     "output_type": "execute_result"
    }
   ],
   "source": [
    "df_mergerd['job_start_date'].iloc[0]"
   ]
  },
  {
   "cell_type": "code",
   "execution_count": 89,
   "metadata": {},
   "outputs": [
    {
     "data": {
      "text/plain": [
       "<pandas.core.indexing._iLocIndexer at 0x22dc88039a8>"
      ]
     },
     "execution_count": 89,
     "metadata": {},
     "output_type": "execute_result"
    }
   ],
   "source": [
    "df_mergerd['issue_date'].iloc "
   ]
  },
  {
   "cell_type": "code",
   "execution_count": 70,
   "metadata": {},
   "outputs": [],
   "source": [
    "def add_extrachar(x):\n",
    "    x = str(x)\n",
    "    x=  x[:4] + '-' + x[4:6] +'-'+ x[6:]    \n",
    "    return x\n",
    "\n",
    "df_mergerd['issue_date'] = df_mergerd['issue_date'].apply(add_extrachar)"
   ]
  },
  {
   "cell_type": "code",
   "execution_count": 71,
   "metadata": {},
   "outputs": [
    {
     "data": {
      "text/plain": [
       "'2016-08-23'"
      ]
     },
     "execution_count": 71,
     "metadata": {},
     "output_type": "execute_result"
    }
   ],
   "source": [
    "df_mergerd['issue_date'].iloc[0]"
   ]
  },
  {
   "cell_type": "code",
   "execution_count": 75,
   "metadata": {},
   "outputs": [],
   "source": [
    "# df_mergerd.drop(df_mergerd[(df_mergerd.issue_date == '33218262') & (df_mergerd.issue_date == 'T90517') & (df_mergerd.issue_date == 'Y30819')].index, inplace=True)\n"
   ]
  },
  {
   "cell_type": "code",
   "execution_count": 90,
   "metadata": {},
   "outputs": [],
   "source": [
    "df_mergerd['issue_date'] =  pd.to_datetime(df_mergerd['issue_date'], format='%Y-%m-%d')\n"
   ]
  },
  {
   "cell_type": "code",
   "execution_count": 91,
   "metadata": {},
   "outputs": [],
   "source": [
    "df_mergerd['issuance_date'] = pd.to_datetime(df_mergerd['issuance_date'], format='%Y-%m-%d')\n",
    "df_mergerd['expiration_date']=pd.to_datetime(df_mergerd['expiration_date'], format='%Y-%m-%d')\n",
    "df_mergerd['job_start_date']=pd.to_datetime(df_mergerd['job_start_date'], format='%Y-%m-%d')\n",
    "df_mergerd['filing_date']=pd.to_datetime(df_mergerd['filing_date'],format='%Y-%m-%d')"
   ]
  },
  {
   "cell_type": "code",
   "execution_count": 92,
   "metadata": {},
   "outputs": [
    {
     "data": {
      "text/plain": [
       "0         2016-03-03\n",
       "1         2015-11-16\n",
       "2         2015-11-16\n",
       "3         2016-08-25\n",
       "4         2015-11-16\n",
       "5         2016-09-21\n",
       "6         2016-03-14\n",
       "7         2015-08-02\n",
       "8         2014-07-23\n",
       "9         2016-10-02\n",
       "10        2016-03-14\n",
       "11        2016-03-24\n",
       "12        2016-03-29\n",
       "13        2014-06-11\n",
       "14        2016-03-14\n",
       "15        2016-03-14\n",
       "16        2015-12-02\n",
       "17        2016-02-03\n",
       "18        2016-02-03\n",
       "19        2016-03-14\n",
       "20        2015-02-23\n",
       "21        2016-03-24\n",
       "22        2014-06-11\n",
       "23        2016-03-24\n",
       "24        2015-02-23\n",
       "25        2015-12-02\n",
       "26        2016-04-14\n",
       "27        2015-02-23\n",
       "28        2016-10-02\n",
       "29        2016-02-03\n",
       "             ...    \n",
       "8854449   2019-03-29\n",
       "8854450   2019-03-29\n",
       "8854451   2019-03-29\n",
       "8854452   2019-03-29\n",
       "8854453   2019-03-29\n",
       "8854454   2019-03-29\n",
       "8854455   2019-03-29\n",
       "8854456   2019-03-29\n",
       "8854457   2019-03-29\n",
       "8854458   2019-03-29\n",
       "8854459   2019-03-29\n",
       "8854460   2019-03-29\n",
       "8854461   2019-03-29\n",
       "8854462   2019-03-29\n",
       "8854463   2019-03-29\n",
       "8854464   2019-03-29\n",
       "8854465   2019-03-29\n",
       "8854466   2019-03-29\n",
       "8854467   2019-03-29\n",
       "8854468   2019-03-29\n",
       "8854469   2019-03-29\n",
       "8854470   2018-09-14\n",
       "8854471   2018-09-14\n",
       "8854472   2018-09-14\n",
       "8854473   2018-09-14\n",
       "8854474   2018-09-14\n",
       "8854475   2018-09-14\n",
       "8854476   2018-09-14\n",
       "8854477   2018-09-14\n",
       "8854478   2018-09-14\n",
       "Name: filing_date, Length: 8854479, dtype: datetime64[ns]"
      ]
     },
     "execution_count": 92,
     "metadata": {},
     "output_type": "execute_result"
    }
   ],
   "source": [
    "df_mergerd['filing_date']"
   ]
  },
  {
   "cell_type": "code",
   "execution_count": 93,
   "metadata": {},
   "outputs": [
    {
     "ename": "MemoryError",
     "evalue": "",
     "output_type": "error",
     "traceback": [
      "\u001b[1;31m---------------------------------------------------------------------------\u001b[0m",
      "\u001b[1;31mMemoryError\u001b[0m                               Traceback (most recent call last)",
      "\u001b[1;32m<ipython-input-93-17a738218289>\u001b[0m in \u001b[0;36m<module>\u001b[1;34m\u001b[0m\n\u001b[1;32m----> 1\u001b[1;33m \u001b[0mdf_filtered\u001b[0m\u001b[1;33m=\u001b[0m\u001b[0mdf_mergerd\u001b[0m\u001b[1;33m[\u001b[0m\u001b[1;33m(\u001b[0m\u001b[0mdf_mergerd\u001b[0m\u001b[1;33m[\u001b[0m\u001b[1;34m'issue_date'\u001b[0m\u001b[1;33m]\u001b[0m \u001b[1;33m>=\u001b[0m \u001b[0mdf_mergerd\u001b[0m\u001b[1;33m[\u001b[0m\u001b[1;34m'job_start_date'\u001b[0m\u001b[1;33m]\u001b[0m\u001b[1;33m)\u001b[0m\u001b[1;33m]\u001b[0m\u001b[1;33m\u001b[0m\u001b[1;33m\u001b[0m\u001b[0m\n\u001b[0m",
      "\u001b[1;32m~\\Anaconda3\\lib\\site-packages\\pandas\\core\\frame.py\u001b[0m in \u001b[0;36m__getitem__\u001b[1;34m(self, key)\u001b[0m\n\u001b[0;32m   2680\u001b[0m         \u001b[1;32mif\u001b[0m \u001b[0misinstance\u001b[0m\u001b[1;33m(\u001b[0m\u001b[0mkey\u001b[0m\u001b[1;33m,\u001b[0m \u001b[1;33m(\u001b[0m\u001b[0mSeries\u001b[0m\u001b[1;33m,\u001b[0m \u001b[0mnp\u001b[0m\u001b[1;33m.\u001b[0m\u001b[0mndarray\u001b[0m\u001b[1;33m,\u001b[0m \u001b[0mIndex\u001b[0m\u001b[1;33m,\u001b[0m \u001b[0mlist\u001b[0m\u001b[1;33m)\u001b[0m\u001b[1;33m)\u001b[0m\u001b[1;33m:\u001b[0m\u001b[1;33m\u001b[0m\u001b[1;33m\u001b[0m\u001b[0m\n\u001b[0;32m   2681\u001b[0m             \u001b[1;31m# either boolean or fancy integer index\u001b[0m\u001b[1;33m\u001b[0m\u001b[1;33m\u001b[0m\u001b[1;33m\u001b[0m\u001b[0m\n\u001b[1;32m-> 2682\u001b[1;33m             \u001b[1;32mreturn\u001b[0m \u001b[0mself\u001b[0m\u001b[1;33m.\u001b[0m\u001b[0m_getitem_array\u001b[0m\u001b[1;33m(\u001b[0m\u001b[0mkey\u001b[0m\u001b[1;33m)\u001b[0m\u001b[1;33m\u001b[0m\u001b[1;33m\u001b[0m\u001b[0m\n\u001b[0m\u001b[0;32m   2683\u001b[0m         \u001b[1;32melif\u001b[0m \u001b[0misinstance\u001b[0m\u001b[1;33m(\u001b[0m\u001b[0mkey\u001b[0m\u001b[1;33m,\u001b[0m \u001b[0mDataFrame\u001b[0m\u001b[1;33m)\u001b[0m\u001b[1;33m:\u001b[0m\u001b[1;33m\u001b[0m\u001b[1;33m\u001b[0m\u001b[0m\n\u001b[0;32m   2684\u001b[0m             \u001b[1;32mreturn\u001b[0m \u001b[0mself\u001b[0m\u001b[1;33m.\u001b[0m\u001b[0m_getitem_frame\u001b[0m\u001b[1;33m(\u001b[0m\u001b[0mkey\u001b[0m\u001b[1;33m)\u001b[0m\u001b[1;33m\u001b[0m\u001b[1;33m\u001b[0m\u001b[0m\n",
      "\u001b[1;32m~\\Anaconda3\\lib\\site-packages\\pandas\\core\\frame.py\u001b[0m in \u001b[0;36m_getitem_array\u001b[1;34m(self, key)\u001b[0m\n\u001b[0;32m   2722\u001b[0m             \u001b[0mkey\u001b[0m \u001b[1;33m=\u001b[0m \u001b[0mcheck_bool_indexer\u001b[0m\u001b[1;33m(\u001b[0m\u001b[0mself\u001b[0m\u001b[1;33m.\u001b[0m\u001b[0mindex\u001b[0m\u001b[1;33m,\u001b[0m \u001b[0mkey\u001b[0m\u001b[1;33m)\u001b[0m\u001b[1;33m\u001b[0m\u001b[1;33m\u001b[0m\u001b[0m\n\u001b[0;32m   2723\u001b[0m             \u001b[0mindexer\u001b[0m \u001b[1;33m=\u001b[0m \u001b[0mkey\u001b[0m\u001b[1;33m.\u001b[0m\u001b[0mnonzero\u001b[0m\u001b[1;33m(\u001b[0m\u001b[1;33m)\u001b[0m\u001b[1;33m[\u001b[0m\u001b[1;36m0\u001b[0m\u001b[1;33m]\u001b[0m\u001b[1;33m\u001b[0m\u001b[1;33m\u001b[0m\u001b[0m\n\u001b[1;32m-> 2724\u001b[1;33m             \u001b[1;32mreturn\u001b[0m \u001b[0mself\u001b[0m\u001b[1;33m.\u001b[0m\u001b[0m_take\u001b[0m\u001b[1;33m(\u001b[0m\u001b[0mindexer\u001b[0m\u001b[1;33m,\u001b[0m \u001b[0maxis\u001b[0m\u001b[1;33m=\u001b[0m\u001b[1;36m0\u001b[0m\u001b[1;33m)\u001b[0m\u001b[1;33m\u001b[0m\u001b[1;33m\u001b[0m\u001b[0m\n\u001b[0m\u001b[0;32m   2725\u001b[0m         \u001b[1;32melse\u001b[0m\u001b[1;33m:\u001b[0m\u001b[1;33m\u001b[0m\u001b[1;33m\u001b[0m\u001b[0m\n\u001b[0;32m   2726\u001b[0m             \u001b[0mindexer\u001b[0m \u001b[1;33m=\u001b[0m \u001b[0mself\u001b[0m\u001b[1;33m.\u001b[0m\u001b[0mloc\u001b[0m\u001b[1;33m.\u001b[0m\u001b[0m_convert_to_indexer\u001b[0m\u001b[1;33m(\u001b[0m\u001b[0mkey\u001b[0m\u001b[1;33m,\u001b[0m \u001b[0maxis\u001b[0m\u001b[1;33m=\u001b[0m\u001b[1;36m1\u001b[0m\u001b[1;33m)\u001b[0m\u001b[1;33m\u001b[0m\u001b[1;33m\u001b[0m\u001b[0m\n",
      "\u001b[1;32m~\\Anaconda3\\lib\\site-packages\\pandas\\core\\generic.py\u001b[0m in \u001b[0;36m_take\u001b[1;34m(self, indices, axis, is_copy)\u001b[0m\n\u001b[0;32m   2783\u001b[0m     \u001b[1;33m@\u001b[0m\u001b[0mAppender\u001b[0m\u001b[1;33m(\u001b[0m\u001b[0m_shared_docs\u001b[0m\u001b[1;33m[\u001b[0m\u001b[1;34m'_take'\u001b[0m\u001b[1;33m]\u001b[0m\u001b[1;33m)\u001b[0m\u001b[1;33m\u001b[0m\u001b[1;33m\u001b[0m\u001b[0m\n\u001b[0;32m   2784\u001b[0m     \u001b[1;32mdef\u001b[0m \u001b[0m_take\u001b[0m\u001b[1;33m(\u001b[0m\u001b[0mself\u001b[0m\u001b[1;33m,\u001b[0m \u001b[0mindices\u001b[0m\u001b[1;33m,\u001b[0m \u001b[0maxis\u001b[0m\u001b[1;33m=\u001b[0m\u001b[1;36m0\u001b[0m\u001b[1;33m,\u001b[0m \u001b[0mis_copy\u001b[0m\u001b[1;33m=\u001b[0m\u001b[1;32mTrue\u001b[0m\u001b[1;33m)\u001b[0m\u001b[1;33m:\u001b[0m\u001b[1;33m\u001b[0m\u001b[1;33m\u001b[0m\u001b[0m\n\u001b[1;32m-> 2785\u001b[1;33m         \u001b[0mself\u001b[0m\u001b[1;33m.\u001b[0m\u001b[0m_consolidate_inplace\u001b[0m\u001b[1;33m(\u001b[0m\u001b[1;33m)\u001b[0m\u001b[1;33m\u001b[0m\u001b[1;33m\u001b[0m\u001b[0m\n\u001b[0m\u001b[0;32m   2786\u001b[0m \u001b[1;33m\u001b[0m\u001b[0m\n\u001b[0;32m   2787\u001b[0m         new_data = self._data.take(indices,\n",
      "\u001b[1;32m~\\Anaconda3\\lib\\site-packages\\pandas\\core\\generic.py\u001b[0m in \u001b[0;36m_consolidate_inplace\u001b[1;34m(self)\u001b[0m\n\u001b[0;32m   4437\u001b[0m             \u001b[0mself\u001b[0m\u001b[1;33m.\u001b[0m\u001b[0m_data\u001b[0m \u001b[1;33m=\u001b[0m \u001b[0mself\u001b[0m\u001b[1;33m.\u001b[0m\u001b[0m_data\u001b[0m\u001b[1;33m.\u001b[0m\u001b[0mconsolidate\u001b[0m\u001b[1;33m(\u001b[0m\u001b[1;33m)\u001b[0m\u001b[1;33m\u001b[0m\u001b[1;33m\u001b[0m\u001b[0m\n\u001b[0;32m   4438\u001b[0m \u001b[1;33m\u001b[0m\u001b[0m\n\u001b[1;32m-> 4439\u001b[1;33m         \u001b[0mself\u001b[0m\u001b[1;33m.\u001b[0m\u001b[0m_protect_consolidate\u001b[0m\u001b[1;33m(\u001b[0m\u001b[0mf\u001b[0m\u001b[1;33m)\u001b[0m\u001b[1;33m\u001b[0m\u001b[1;33m\u001b[0m\u001b[0m\n\u001b[0m\u001b[0;32m   4440\u001b[0m \u001b[1;33m\u001b[0m\u001b[0m\n\u001b[0;32m   4441\u001b[0m     \u001b[1;32mdef\u001b[0m \u001b[0m_consolidate\u001b[0m\u001b[1;33m(\u001b[0m\u001b[0mself\u001b[0m\u001b[1;33m,\u001b[0m \u001b[0minplace\u001b[0m\u001b[1;33m=\u001b[0m\u001b[1;32mFalse\u001b[0m\u001b[1;33m)\u001b[0m\u001b[1;33m:\u001b[0m\u001b[1;33m\u001b[0m\u001b[1;33m\u001b[0m\u001b[0m\n",
      "\u001b[1;32m~\\Anaconda3\\lib\\site-packages\\pandas\\core\\generic.py\u001b[0m in \u001b[0;36m_protect_consolidate\u001b[1;34m(self, f)\u001b[0m\n\u001b[0;32m   4426\u001b[0m         \"\"\"\n\u001b[0;32m   4427\u001b[0m         \u001b[0mblocks_before\u001b[0m \u001b[1;33m=\u001b[0m \u001b[0mlen\u001b[0m\u001b[1;33m(\u001b[0m\u001b[0mself\u001b[0m\u001b[1;33m.\u001b[0m\u001b[0m_data\u001b[0m\u001b[1;33m.\u001b[0m\u001b[0mblocks\u001b[0m\u001b[1;33m)\u001b[0m\u001b[1;33m\u001b[0m\u001b[1;33m\u001b[0m\u001b[0m\n\u001b[1;32m-> 4428\u001b[1;33m         \u001b[0mresult\u001b[0m \u001b[1;33m=\u001b[0m \u001b[0mf\u001b[0m\u001b[1;33m(\u001b[0m\u001b[1;33m)\u001b[0m\u001b[1;33m\u001b[0m\u001b[1;33m\u001b[0m\u001b[0m\n\u001b[0m\u001b[0;32m   4429\u001b[0m         \u001b[1;32mif\u001b[0m \u001b[0mlen\u001b[0m\u001b[1;33m(\u001b[0m\u001b[0mself\u001b[0m\u001b[1;33m.\u001b[0m\u001b[0m_data\u001b[0m\u001b[1;33m.\u001b[0m\u001b[0mblocks\u001b[0m\u001b[1;33m)\u001b[0m \u001b[1;33m!=\u001b[0m \u001b[0mblocks_before\u001b[0m\u001b[1;33m:\u001b[0m\u001b[1;33m\u001b[0m\u001b[1;33m\u001b[0m\u001b[0m\n\u001b[0;32m   4430\u001b[0m             \u001b[0mself\u001b[0m\u001b[1;33m.\u001b[0m\u001b[0m_clear_item_cache\u001b[0m\u001b[1;33m(\u001b[0m\u001b[1;33m)\u001b[0m\u001b[1;33m\u001b[0m\u001b[1;33m\u001b[0m\u001b[0m\n",
      "\u001b[1;32m~\\Anaconda3\\lib\\site-packages\\pandas\\core\\generic.py\u001b[0m in \u001b[0;36mf\u001b[1;34m()\u001b[0m\n\u001b[0;32m   4435\u001b[0m \u001b[1;33m\u001b[0m\u001b[0m\n\u001b[0;32m   4436\u001b[0m         \u001b[1;32mdef\u001b[0m \u001b[0mf\u001b[0m\u001b[1;33m(\u001b[0m\u001b[1;33m)\u001b[0m\u001b[1;33m:\u001b[0m\u001b[1;33m\u001b[0m\u001b[1;33m\u001b[0m\u001b[0m\n\u001b[1;32m-> 4437\u001b[1;33m             \u001b[0mself\u001b[0m\u001b[1;33m.\u001b[0m\u001b[0m_data\u001b[0m \u001b[1;33m=\u001b[0m \u001b[0mself\u001b[0m\u001b[1;33m.\u001b[0m\u001b[0m_data\u001b[0m\u001b[1;33m.\u001b[0m\u001b[0mconsolidate\u001b[0m\u001b[1;33m(\u001b[0m\u001b[1;33m)\u001b[0m\u001b[1;33m\u001b[0m\u001b[1;33m\u001b[0m\u001b[0m\n\u001b[0m\u001b[0;32m   4438\u001b[0m \u001b[1;33m\u001b[0m\u001b[0m\n\u001b[0;32m   4439\u001b[0m         \u001b[0mself\u001b[0m\u001b[1;33m.\u001b[0m\u001b[0m_protect_consolidate\u001b[0m\u001b[1;33m(\u001b[0m\u001b[0mf\u001b[0m\u001b[1;33m)\u001b[0m\u001b[1;33m\u001b[0m\u001b[1;33m\u001b[0m\u001b[0m\n",
      "\u001b[1;32m~\\Anaconda3\\lib\\site-packages\\pandas\\core\\internals.py\u001b[0m in \u001b[0;36mconsolidate\u001b[1;34m(self)\u001b[0m\n\u001b[0;32m   4096\u001b[0m         \u001b[0mbm\u001b[0m \u001b[1;33m=\u001b[0m \u001b[0mself\u001b[0m\u001b[1;33m.\u001b[0m\u001b[0m__class__\u001b[0m\u001b[1;33m(\u001b[0m\u001b[0mself\u001b[0m\u001b[1;33m.\u001b[0m\u001b[0mblocks\u001b[0m\u001b[1;33m,\u001b[0m \u001b[0mself\u001b[0m\u001b[1;33m.\u001b[0m\u001b[0maxes\u001b[0m\u001b[1;33m)\u001b[0m\u001b[1;33m\u001b[0m\u001b[1;33m\u001b[0m\u001b[0m\n\u001b[0;32m   4097\u001b[0m         \u001b[0mbm\u001b[0m\u001b[1;33m.\u001b[0m\u001b[0m_is_consolidated\u001b[0m \u001b[1;33m=\u001b[0m \u001b[1;32mFalse\u001b[0m\u001b[1;33m\u001b[0m\u001b[1;33m\u001b[0m\u001b[0m\n\u001b[1;32m-> 4098\u001b[1;33m         \u001b[0mbm\u001b[0m\u001b[1;33m.\u001b[0m\u001b[0m_consolidate_inplace\u001b[0m\u001b[1;33m(\u001b[0m\u001b[1;33m)\u001b[0m\u001b[1;33m\u001b[0m\u001b[1;33m\u001b[0m\u001b[0m\n\u001b[0m\u001b[0;32m   4099\u001b[0m         \u001b[1;32mreturn\u001b[0m \u001b[0mbm\u001b[0m\u001b[1;33m\u001b[0m\u001b[1;33m\u001b[0m\u001b[0m\n\u001b[0;32m   4100\u001b[0m \u001b[1;33m\u001b[0m\u001b[0m\n",
      "\u001b[1;32m~\\Anaconda3\\lib\\site-packages\\pandas\\core\\internals.py\u001b[0m in \u001b[0;36m_consolidate_inplace\u001b[1;34m(self)\u001b[0m\n\u001b[0;32m   4101\u001b[0m     \u001b[1;32mdef\u001b[0m \u001b[0m_consolidate_inplace\u001b[0m\u001b[1;33m(\u001b[0m\u001b[0mself\u001b[0m\u001b[1;33m)\u001b[0m\u001b[1;33m:\u001b[0m\u001b[1;33m\u001b[0m\u001b[1;33m\u001b[0m\u001b[0m\n\u001b[0;32m   4102\u001b[0m         \u001b[1;32mif\u001b[0m \u001b[1;32mnot\u001b[0m \u001b[0mself\u001b[0m\u001b[1;33m.\u001b[0m\u001b[0mis_consolidated\u001b[0m\u001b[1;33m(\u001b[0m\u001b[1;33m)\u001b[0m\u001b[1;33m:\u001b[0m\u001b[1;33m\u001b[0m\u001b[1;33m\u001b[0m\u001b[0m\n\u001b[1;32m-> 4103\u001b[1;33m             \u001b[0mself\u001b[0m\u001b[1;33m.\u001b[0m\u001b[0mblocks\u001b[0m \u001b[1;33m=\u001b[0m \u001b[0mtuple\u001b[0m\u001b[1;33m(\u001b[0m\u001b[0m_consolidate\u001b[0m\u001b[1;33m(\u001b[0m\u001b[0mself\u001b[0m\u001b[1;33m.\u001b[0m\u001b[0mblocks\u001b[0m\u001b[1;33m)\u001b[0m\u001b[1;33m)\u001b[0m\u001b[1;33m\u001b[0m\u001b[1;33m\u001b[0m\u001b[0m\n\u001b[0m\u001b[0;32m   4104\u001b[0m             \u001b[0mself\u001b[0m\u001b[1;33m.\u001b[0m\u001b[0m_is_consolidated\u001b[0m \u001b[1;33m=\u001b[0m \u001b[1;32mTrue\u001b[0m\u001b[1;33m\u001b[0m\u001b[1;33m\u001b[0m\u001b[0m\n\u001b[0;32m   4105\u001b[0m             \u001b[0mself\u001b[0m\u001b[1;33m.\u001b[0m\u001b[0m_known_consolidated\u001b[0m \u001b[1;33m=\u001b[0m \u001b[1;32mTrue\u001b[0m\u001b[1;33m\u001b[0m\u001b[1;33m\u001b[0m\u001b[0m\n",
      "\u001b[1;32m~\\Anaconda3\\lib\\site-packages\\pandas\\core\\internals.py\u001b[0m in \u001b[0;36m_consolidate\u001b[1;34m(blocks)\u001b[0m\n\u001b[0;32m   5067\u001b[0m     \u001b[1;32mfor\u001b[0m \u001b[1;33m(\u001b[0m\u001b[0m_can_consolidate\u001b[0m\u001b[1;33m,\u001b[0m \u001b[0mdtype\u001b[0m\u001b[1;33m)\u001b[0m\u001b[1;33m,\u001b[0m \u001b[0mgroup_blocks\u001b[0m \u001b[1;32min\u001b[0m \u001b[0mgrouper\u001b[0m\u001b[1;33m:\u001b[0m\u001b[1;33m\u001b[0m\u001b[1;33m\u001b[0m\u001b[0m\n\u001b[0;32m   5068\u001b[0m         merged_blocks = _merge_blocks(list(group_blocks), dtype=dtype,\n\u001b[1;32m-> 5069\u001b[1;33m                                       _can_consolidate=_can_consolidate)\n\u001b[0m\u001b[0;32m   5070\u001b[0m         \u001b[0mnew_blocks\u001b[0m \u001b[1;33m=\u001b[0m \u001b[0m_extend_blocks\u001b[0m\u001b[1;33m(\u001b[0m\u001b[0mmerged_blocks\u001b[0m\u001b[1;33m,\u001b[0m \u001b[0mnew_blocks\u001b[0m\u001b[1;33m)\u001b[0m\u001b[1;33m\u001b[0m\u001b[1;33m\u001b[0m\u001b[0m\n\u001b[0;32m   5071\u001b[0m     \u001b[1;32mreturn\u001b[0m \u001b[0mnew_blocks\u001b[0m\u001b[1;33m\u001b[0m\u001b[1;33m\u001b[0m\u001b[0m\n",
      "\u001b[1;32m~\\Anaconda3\\lib\\site-packages\\pandas\\core\\internals.py\u001b[0m in \u001b[0;36m_merge_blocks\u001b[1;34m(blocks, dtype, _can_consolidate)\u001b[0m\n\u001b[0;32m   5090\u001b[0m \u001b[1;33m\u001b[0m\u001b[0m\n\u001b[0;32m   5091\u001b[0m         \u001b[0margsort\u001b[0m \u001b[1;33m=\u001b[0m \u001b[0mnp\u001b[0m\u001b[1;33m.\u001b[0m\u001b[0margsort\u001b[0m\u001b[1;33m(\u001b[0m\u001b[0mnew_mgr_locs\u001b[0m\u001b[1;33m)\u001b[0m\u001b[1;33m\u001b[0m\u001b[1;33m\u001b[0m\u001b[0m\n\u001b[1;32m-> 5092\u001b[1;33m         \u001b[0mnew_values\u001b[0m \u001b[1;33m=\u001b[0m \u001b[0mnew_values\u001b[0m\u001b[1;33m[\u001b[0m\u001b[0margsort\u001b[0m\u001b[1;33m]\u001b[0m\u001b[1;33m\u001b[0m\u001b[1;33m\u001b[0m\u001b[0m\n\u001b[0m\u001b[0;32m   5093\u001b[0m         \u001b[0mnew_mgr_locs\u001b[0m \u001b[1;33m=\u001b[0m \u001b[0mnew_mgr_locs\u001b[0m\u001b[1;33m[\u001b[0m\u001b[0margsort\u001b[0m\u001b[1;33m]\u001b[0m\u001b[1;33m\u001b[0m\u001b[1;33m\u001b[0m\u001b[0m\n\u001b[0;32m   5094\u001b[0m \u001b[1;33m\u001b[0m\u001b[0m\n",
      "\u001b[1;31mMemoryError\u001b[0m: "
     ]
    }
   ],
   "source": [
    "df_filtered=df_mergerd[(df_mergerd['issue_date'] >= df_mergerd['job_start_date'])] \n"
   ]
  },
  {
   "cell_type": "code",
   "execution_count": 80,
   "metadata": {},
   "outputs": [],
   "source": [
    "df_violation.to_csv(\"df_violation.csv\")"
   ]
  },
  {
   "cell_type": "code",
   "execution_count": null,
   "metadata": {},
   "outputs": [],
   "source": [
    "df_filtered.to_csv(\"df_filtered.csv\")"
   ]
  }
 ],
 "metadata": {
  "kernelspec": {
   "display_name": "Python 3",
   "language": "python",
   "name": "python3"
  },
  "language_info": {
   "codemirror_mode": {
    "name": "ipython",
    "version": 3
   },
   "file_extension": ".py",
   "mimetype": "text/x-python",
   "name": "python",
   "nbconvert_exporter": "python",
   "pygments_lexer": "ipython3",
   "version": "3.7.1"
  }
 },
 "nbformat": 4,
 "nbformat_minor": 2
}
